{
  "nbformat": 4,
  "nbformat_minor": 0,
  "metadata": {
    "colab": {
      "name": "EXP_07_DIP.ipynb",
      "provenance": [],
      "collapsed_sections": []
    },
    "kernelspec": {
      "name": "python3",
      "display_name": "Python 3"
    }
  },
  "cells": [
    {
      "cell_type": "markdown",
      "metadata": {
        "id": "gE0mTVtc_GQQ"
      },
      "source": [
        "**IMPLEMENTING GUI IN COLAB**"
      ]
    },
    {
      "cell_type": "markdown",
      "metadata": {
        "id": "gJMZwUTTVnuo"
      },
      "source": [
        ""
      ]
    },
    {
      "cell_type": "code",
      "metadata": {
        "id": "KjgY8SBF_BfL"
      },
      "source": [
        "import numpy as np\n",
        "import pandas as pd\n",
        "import cv2 as cv\n",
        "from google.colab.patches import cv2_imshow # for image display\n",
        "from skimage import io\n",
        "from PIL import Image \n",
        "import matplotlib.pylab as plt\n",
        "#import matplotlib.image as mpimg \n",
        "#from matplotlib.pyplot import imshow\n",
        "#%matplotlib inline"
      ],
      "execution_count": 1,
      "outputs": []
    },
    {
      "cell_type": "code",
      "metadata": {
        "colab": {
          "base_uri": "https://localhost:8080/"
        },
        "id": "3EO3q1OEWJXc",
        "outputId": "48b9ab83-8eb3-4b8f-d36f-ca0d29319c9c"
      },
      "source": [
        "#@title Google Form {run:\"auto\"} \n",
        "NAME = \"NISHI SINGH\" #@param {type:\"string\"}\n",
        "drop_down = 'Sec B' #@param[\"Sec A\", \"Sec B\", \"Sec C\", 'Sec D','other\"]\n",
        "text_dropdown = 'PIET' #@param [\"PIET\", \"PCE\", \"SKIT\", \"Sec D\"] {allow-input: true}\n",
        "print(NAME)\n",
        "print(drop_down)\n",
        "print(text_dropdown)"
      ],
      "execution_count": 2,
      "outputs": [
        {
          "output_type": "stream",
          "text": [
            "NISHI SINGH\n",
            "Sec B\n",
            "PIET\n"
          ],
          "name": "stdout"
        }
      ]
    },
    {
      "cell_type": "code",
      "metadata": {
        "id": "rUDgTKONYBsB"
      },
      "source": [
        "#@title Google Form to collect student data\n",
        "Student_Name= \"MUSKAN CHOUDHARY\" #@param {type:\"string\"}\n",
        "College_name= 'RCEW' #@param [\"PIET\", \"PGI\", \"PCE\", \"other\"]{allow-input: true}"
      ],
      "execution_count": 4,
      "outputs": []
    },
    {
      "cell_type": "code",
      "metadata": {
        "colab": {
          "base_uri": "https://localhost:8080/"
        },
        "id": "MT8ekmuT4jaW",
        "outputId": "09f1ca68-f532-49db-8f09-13426b871b84"
      },
      "source": [
        "#@title Student Portal {run:\"auto\"}\n",
        "Student_name= \"ANMOL AGARWALL\" #@param {type:\"string\"}\n",
        "Section= 'Sec A' #@param [\"Sec A\", \"Sec B\", \"Sec C\"]\n",
        "print(Student_name)\n",
        "print (Section)"
      ],
      "execution_count": 5,
      "outputs": [
        {
          "output_type": "stream",
          "text": [
            "ANMOL AGARWALL\n",
            "Sec A\n"
          ],
          "name": "stdout"
        }
      ]
    },
    {
      "cell_type": "code",
      "metadata": {
        "colab": {
          "base_uri": "https://localhost:8080/"
        },
        "id": "bsHNGXjwRpWZ",
        "outputId": "437e1638-ddf9-49dc-e58c-95c0fd807749"
      },
      "source": [
        "#@title Raw Fields {run:\"auto\"} \n",
        "\n",
        "raw_input = 'niharika' #@param{type:\"raw\"}\n",
        "raw_dropdown = NAME #@param[\"Text\",\"NAME\",\"alka\", 1,\"raw_input\",\"False\", \"String\"] {type:\"raw\"} \n",
        "print(raw_input)\n",
        "print(raw_dropdown)"
      ],
      "execution_count": 6,
      "outputs": [
        {
          "output_type": "stream",
          "text": [
            "niharika\n",
            "NISHI SINGH\n"
          ],
          "name": "stdout"
        }
      ]
    },
    {
      "cell_type": "code",
      "metadata": {
        "colab": {
          "base_uri": "https://localhost:8080/"
        },
        "id": "Ttsg-xhXTVZV",
        "outputId": "381db8bd-9744-4757-a951-ca4e7bfbb269"
      },
      "source": [
        "#@title Date Field {run:\"auto\"}\n",
        "DOB = '2001-01-21' #@param{type:\"date\"}\n",
        "print(DOB)"
      ],
      "execution_count": 7,
      "outputs": [
        {
          "output_type": "stream",
          "text": [
            "2001-01-21\n"
          ],
          "name": "stdout"
        }
      ]
    },
    {
      "cell_type": "code",
      "metadata": {
        "id": "kRM0Z1PPT6mU",
        "colab": {
          "base_uri": "https://localhost:8080/"
        },
        "outputId": "634088e2-c7e2-46f4-b0dd-4e3d7b645eab"
      },
      "source": [
        "#@title Number Fields   {run:\"auto\"} \n",
        "number_input =  0#@param {type:\"number\"}\n",
        "number_slider = 0 #@param {type:\"slider\",min:0, max:1, step:0.1}\n",
        "\n",
        "integer_input =  67#@param {type:\"number\"}\n",
        "integer_slider = 100 #@param {type:\"slider\",min:0, max:100, step:10}\n",
        "\n",
        "print(number_input)\n",
        "print(number_slider)\n",
        "\n",
        "print(integer_input)\n",
        "print(integer_slider)"
      ],
      "execution_count": 8,
      "outputs": [
        {
          "output_type": "stream",
          "text": [
            "0\n",
            "0\n",
            "67\n",
            "100\n"
          ],
          "name": "stdout"
        }
      ]
    },
    {
      "cell_type": "code",
      "metadata": {
        "colab": {
          "base_uri": "https://localhost:8080/"
        },
        "id": "p_pZDIAcVePW",
        "outputId": "3371fdca-8af5-4243-9901-0edfde11ef50"
      },
      "source": [
        "#@title Boolean Fields {run:\"auto\"} \n",
        "boolean_checkbox = False #@param {type:\"boolean\"}\n",
        "boolean_dropdowm = \"False\" #@param [\"False\", \"True\"] \n",
        "print(boolean_checkbox)\n",
        "print(boolean_dropdowm)"
      ],
      "execution_count": 9,
      "outputs": [
        {
          "output_type": "stream",
          "text": [
            "False\n",
            "False\n"
          ],
          "name": "stdout"
        }
      ]
    }
  ]
}